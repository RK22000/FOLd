{
  "nbformat": 4,
  "nbformat_minor": 0,
  "metadata": {
    "colab": {
      "name": "FOLd.ipynb",
      "provenance": [],
      "toc_visible": true,
      "authorship_tag": "ABX9TyOFLPg8f3s3TUXHJa2fIthz",
      "include_colab_link": true
    },
    "kernelspec": {
      "name": "python3",
      "display_name": "Python 3"
    },
    "language_info": {
      "name": "python"
    }
  },
  "cells": [
    {
      "cell_type": "markdown",
      "metadata": {
        "id": "view-in-github",
        "colab_type": "text"
      },
      "source": [
        "<a href=\"https://colab.research.google.com/github/RK22000/FOLd/blob/main/FOLd.ipynb\" target=\"_parent\"><img src=\"https://colab.research.google.com/assets/colab-badge.svg\" alt=\"Open In Colab\"/></a>"
      ]
    },
    {
      "cell_type": "markdown",
      "source": [
        "# Introduction"
      ],
      "metadata": {
        "id": "wLsfkFRnByoo"
      }
    },
    {
      "cell_type": "markdown",
      "source": [
        "This document is divided into 3 sections:\n",
        "\n",
        "1. Helper Methods\n",
        "\n",
        "        Has all the helper methods and their minor tests. (Skipable)\n",
        "1. Main Code\n",
        "    \n",
        "        Has the code for the main brains of the First Order Logic.\n",
        "1. Tests\n",
        "    \n",
        "        Shows the FOL engine at work with test cases. Can be checked before reading other sections.\n",
        "\n"
      ],
      "metadata": {
        "id": "Cf4PDHX7CMEP"
      }
    },
    {
      "cell_type": "markdown",
      "source": [
        "# Helper methods"
      ],
      "metadata": {
        "id": "hDo6NWDBBWkT"
      }
    },
    {
      "cell_type": "code",
      "source": [
        "import re"
      ],
      "metadata": {
        "id": "V3LreHXAFhxJ"
      },
      "execution_count": null,
      "outputs": []
    },
    {
      "cell_type": "code",
      "source": [
        "re.findall(r'\\(.*\\)', \"Smart(x)(y)\")"
      ],
      "metadata": {
        "colab": {
          "base_uri": "https://localhost:8080/"
        },
        "id": "gThEoHYWFfqJ",
        "outputId": "02a75f42-ba55-465d-9737-b7f924758121"
      },
      "execution_count": null,
      "outputs": [
        {
          "output_type": "execute_result",
          "data": {
            "text/plain": [
              "['(x)(y)']"
            ]
          },
          "metadata": {},
          "execution_count": 24
        }
      ]
    },
    {
      "cell_type": "code",
      "source": [
        "re.findall(r'\\([^(]*\\)', \"Smart(x)(y)\")"
      ],
      "metadata": {
        "colab": {
          "base_uri": "https://localhost:8080/"
        },
        "outputId": "0389c095-9187-4276-eaad-2ed97516f609",
        "id": "4Z2oRCJRHb0P"
      },
      "execution_count": null,
      "outputs": [
        {
          "output_type": "execute_result",
          "data": {
            "text/plain": [
              "['(x)', '(y)']"
            ]
          },
          "metadata": {},
          "execution_count": 35
        }
      ]
    },
    {
      "cell_type": "code",
      "source": [
        "#match = re.findall(r'\\((?P<arguments>[^()]*)\\)', \"Smart(x, y) Clever(p, (q))\")\n",
        "b1 = r'\\(([^)(]*)\\)'\n",
        "b2 = r'\\(([^)(]*' + r'\\([^)(]\\)' + r'[^()]*)\\)'\n",
        "\n",
        "match = re.findall(b1+'|'+b2, \"Smart(x, y) Clever(p, (q))\")\n",
        "match#.group(\"arguments\")"
      ],
      "metadata": {
        "colab": {
          "base_uri": "https://localhost:8080/"
        },
        "outputId": "77add8fa-bfcd-4c53-9e8d-74fc8d1a344d",
        "id": "0DsKZltuIwz8"
      },
      "execution_count": null,
      "outputs": [
        {
          "output_type": "execute_result",
          "data": {
            "text/plain": [
              "[('x, y', ''), ('', 'p, (q)')]"
            ]
          },
          "metadata": {},
          "execution_count": 86
        }
      ]
    },
    {
      "cell_type": "code",
      "source": [
        "import re\n",
        "def getFuncArgs(predicate: str):\n",
        "    \"\"\"Get the first function and its set of arguments in the predicate\"\"\"\n",
        "    regex = re.compile(r'(?P<negation>~?)(?P<function>\\w+)\\((?P<arguments>[^()]*)\\)')\n",
        "    match = regex.search(predicate)\n",
        "    arguments = match.group(\"arguments\").split(',')\n",
        "    for i, argument in enumerate(arguments):\n",
        "        arguments[i] = argument.strip()\n",
        "    func = match.group(\"function\")\n",
        "    negation = match.group(\"negation\")\n",
        "    return func, arguments, negation\n"
      ],
      "metadata": {
        "id": "Rx2Kh-_aC8WM"
      },
      "execution_count": null,
      "outputs": []
    },
    {
      "cell_type": "code",
      "source": [
        "getFuncArgs(\"~Smart(x, y)\")"
      ],
      "metadata": {
        "colab": {
          "base_uri": "https://localhost:8080/"
        },
        "id": "kuhUVBFEP0TD",
        "outputId": "437eedd2-eb83-4aad-f9f9-bbe472075dc9"
      },
      "execution_count": null,
      "outputs": [
        {
          "output_type": "execute_result",
          "data": {
            "text/plain": [
              "('Smart', ['x', 'y'], '~')"
            ]
          },
          "metadata": {},
          "execution_count": 246
        }
      ]
    },
    {
      "cell_type": "code",
      "source": [
        "import re\n",
        "def isFuncArgs(predicate: str):\n",
        "    \"\"\"Get the first function and its set of arguments in the predicate\"\"\"\n",
        "    regex = re.compile(r'(?P<function>~?\\w+)\\((?P<arguments>[^()]*)\\)')\n",
        "    match = regex.search(predicate)\n",
        "    return True if match else False\n"
      ],
      "metadata": {
        "id": "yrYJiC9YT6uO"
      },
      "execution_count": null,
      "outputs": []
    },
    {
      "cell_type": "code",
      "source": [
        "isFuncArgs(\"abc\")"
      ],
      "metadata": {
        "colab": {
          "base_uri": "https://localhost:8080/"
        },
        "id": "kRL44GUOToep",
        "outputId": "f8ed621b-d49e-4aca-ef04-7de67e117c70"
      },
      "execution_count": null,
      "outputs": [
        {
          "output_type": "execute_result",
          "data": {
            "text/plain": [
              "False"
            ]
          },
          "metadata": {},
          "execution_count": 235
        }
      ]
    },
    {
      "cell_type": "code",
      "source": [
        "def ValidTerm(term: str):\n",
        "    regex = re.compile(r\"^[A-Za-z]+$\")\n",
        "    return True if regex.search(term) else False\n",
        "\n",
        "def GroundTerm(term: str):\n",
        "    if not ValidTerm(term=term): return False\n",
        "    regex = re.compile(r\"^[a-z]+$\")\n",
        "    return True if regex.search(term) else False\n",
        "\n",
        "def ConstantTerm(term: str):\n",
        "    if not ValidTerm(term=term): return False\n",
        "    regex = re.compile(r\"^[A-Z][A-Za-z]+$\")\n",
        "    return True if regex.search(term) else False"
      ],
      "metadata": {
        "id": "fvvMT6eXVLs7"
      },
      "execution_count": null,
      "outputs": []
    },
    {
      "cell_type": "code",
      "source": [
        "GroundTerm('x'), ConstantTerm('RahulKan'), ValidTerm('XyZ')"
      ],
      "metadata": {
        "colab": {
          "base_uri": "https://localhost:8080/"
        },
        "id": "954wPIayV7X-",
        "outputId": "f7794379-6d54-4c35-9cf4-1f9757ac4966"
      },
      "execution_count": null,
      "outputs": [
        {
          "output_type": "execute_result",
          "data": {
            "text/plain": [
              "(True, True, True)"
            ]
          },
          "metadata": {},
          "execution_count": 196
        }
      ]
    },
    {
      "cell_type": "code",
      "source": [
        "def swapable(f_terms: list, p_terms: list):\n",
        "    count=0\n",
        "    if not len(f_terms) == len(p_terms): return False\n",
        "    for f_term, p_term in zip(f_terms, p_terms):\n",
        "        if GroundTerm(f_term) or f_term==p_term:\n",
        "            count+=1\n",
        "    return count==len(f_terms)"
      ],
      "metadata": {
        "id": "9u5CcG6mjgEY"
      },
      "execution_count": null,
      "outputs": []
    },
    {
      "cell_type": "code",
      "source": [
        "None == True, None == False"
      ],
      "metadata": {
        "colab": {
          "base_uri": "https://localhost:8080/"
        },
        "id": "gIMqsVcfoKf7",
        "outputId": "23e1e2e7-7d66-4d91-8e24-5463117ff140"
      },
      "execution_count": null,
      "outputs": [
        {
          "output_type": "execute_result",
          "data": {
            "text/plain": [
              "(False, False)"
            ]
          },
          "metadata": {},
          "execution_count": 227
        }
      ]
    },
    {
      "cell_type": "code",
      "source": [
        "def isRule(sentence: str):\n",
        "    return sentence.count(\"=>\") == 1"
      ],
      "metadata": {
        "id": "7MlphbOgxhCz"
      },
      "execution_count": 285,
      "outputs": []
    },
    {
      "cell_type": "code",
      "source": [
        "isRule(\" a => b\")"
      ],
      "metadata": {
        "colab": {
          "base_uri": "https://localhost:8080/"
        },
        "id": "zqnJFhkRxv9P",
        "outputId": "afa2b0cb-495e-4101-9047-12abbcfb77f2"
      },
      "execution_count": 286,
      "outputs": [
        {
          "output_type": "execute_result",
          "data": {
            "text/plain": [
              "True"
            ]
          },
          "metadata": {},
          "execution_count": 286
        }
      ]
    },
    {
      "cell_type": "code",
      "source": [
        "def getCondImpl(sentence: str):\n",
        "    condition, implication = sentence.split(\"=>\")\n",
        "    return condition.strip(), implication.strip()"
      ],
      "metadata": {
        "id": "sE-QFrUJyL1H"
      },
      "execution_count": 282,
      "outputs": []
    },
    {
      "cell_type": "code",
      "source": [
        "getCondImpl(\" a ^ x=> b \")"
      ],
      "metadata": {
        "colab": {
          "base_uri": "https://localhost:8080/"
        },
        "id": "z3_ePNxNzSgi",
        "outputId": "f77a40f7-1df1-4a32-fd11-226e3fb09abf"
      },
      "execution_count": 284,
      "outputs": [
        {
          "output_type": "execute_result",
          "data": {
            "text/plain": [
              "('a ^ x', 'b')"
            ]
          },
          "metadata": {},
          "execution_count": 284
        }
      ]
    },
    {
      "cell_type": "code",
      "source": [
        "def swap_list(f_terms: list, p_terms: list):\n",
        "    swap = dict()\n",
        "    if not len(f_terms) == len(p_terms): return swap\n",
        "    for f_term, p_term in zip(f_terms, p_terms):\n",
        "        if GroundTerm(f_term):\n",
        "            swap[f_term] = p_term\n",
        "    return swap"
      ],
      "metadata": {
        "id": "p_qx_p3v2oIB"
      },
      "execution_count": 290,
      "outputs": []
    },
    {
      "cell_type": "markdown",
      "source": [
        "# Main Code"
      ],
      "metadata": {
        "id": "ksi8zOjdBopU"
      }
    },
    {
      "cell_type": "code",
      "execution_count": 312,
      "metadata": {
        "id": "HplyfgIi_Rb9"
      },
      "outputs": [],
      "source": [
        "class Fol_engine:\n",
        "    def __init__(self, facts: set = set(), rules: set = set()) -> None:\n",
        "        self.facts = facts\n",
        "        self.rules = rules\n",
        "\n",
        "\n",
        "    def isTrue(self, predicate: str):\n",
        "        #if predicate in self.facts:\n",
        "         #   return True\n",
        "\n",
        "        \n",
        "        if isFuncArgs(predicate):\n",
        "            p_func, p_arguments, p_negation = getFuncArgs(predicate)\n",
        "\n",
        "            for fact in self.facts:\n",
        "                if isFuncArgs(fact):\n",
        "                    f_func, f_arguments, f_negation = getFuncArgs(fact)\n",
        "                    if f_func==p_func and len(p_arguments)==len(f_arguments):\n",
        "                        print(f'Fact Function match \\'{p_func}\\'')\n",
        "                        print(f'p_arguments {p_arguments}, f_arguments {f_arguments}')\n",
        "\n",
        "                        if swapable(f_terms=f_arguments, p_terms=p_arguments):\n",
        "                            mod = \"\" if p_negation == f_negation else \"not \"\n",
        "                            print(f'Fact \\'{fact}\\' |=> {mod}{predicate}')\n",
        "                            return p_negation == f_negation\n",
        "\n",
        "            for rule in self.rules:\n",
        "                if isRule(rule):\n",
        "                    condition, implication = getCondImpl(rule)\n",
        "                    if isFuncArgs(implication):\n",
        "                        i_func, i_arguments, i_negation = getFuncArgs(implication)\n",
        "                        if i_func==p_func and len(i_arguments)==len(p_arguments):\n",
        "                            print(f'Rule match \\'{rule}\\' for \\'{predicate}\\'')\n",
        "\n",
        "                            if swapable(f_terms=i_arguments, p_terms=p_arguments):\n",
        "                                swap = swap_list(f_terms=i_arguments, p_terms=p_arguments)\n",
        "                                print(f'Swaping {swap}')\n",
        "\n",
        "                                for var in swap:\n",
        "                                    condition = re.sub(var, swap[var], condition)\n",
        "                                    rule = re.sub(var, swap[var], rule)\n",
        "                                \n",
        "                                print(f'Swapped condition \\'{condition}\\'')\n",
        "                                result = self.isTrue(condition)\n",
        "                                if result == True:\n",
        "                                    print(f'Rule {rule}')\n",
        "                                    return result if p_negation == i_negation else not result\n",
        "        return None"
      ]
    },
    {
      "cell_type": "markdown",
      "source": [
        "# Tests"
      ],
      "metadata": {
        "id": "jPw-bGTKBuCF"
      }
    },
    {
      "cell_type": "code",
      "source": [
        "# Test 5\n",
        "\n",
        "print(\"\\nTest 1\")\n",
        "engine_1 = Fol_engine(facts={\"Clever(Rahul)\"}, rules={\"Clever(x) => Smart(x)\"})\n",
        "print( engine_1.isTrue(\"Smart(Rahul)\") )\n",
        "\n",
        "\n",
        "print(\"\\nTest 2\")\n",
        "engine_1 = Fol_engine(facts={\"Clever(y)\"}, rules={\"Clever(x) => Smart(x)\"})\n",
        "print( engine_1.isTrue(\"Smart(Rahul)\") )\n",
        "\n",
        "print(\"\\nTest 3\")\n",
        "engine_1 = Fol_engine(facts={\"Clever(y)\"}, rules={\"Clever(x) => ~Silly(x)\"})\n",
        "print( engine_1.isTrue(\"Silly(Rahul)\") )\n",
        "\n",
        "print(\"\\nTest 4\")\n",
        "engine_1 = Fol_engine(facts={\"~Clever(Rahul)\"}, rules={\"Clever(x) => Smart(x)\"})\n",
        "print( engine_1.isTrue(\"Smart(Rahul)\") )\n",
        "\n",
        "print(\"\\nTest 5\")\n",
        "engine_1 = Fol_engine(facts={\"Clever(Rahul)\"}, rules={\"~Clever(x) => Smart(x)\"})\n",
        "print( engine_1.isTrue(\"Smart(Rahul)\") )"
      ],
      "metadata": {
        "colab": {
          "base_uri": "https://localhost:8080/"
        },
        "id": "722GPWW4wJof",
        "outputId": "8204cc54-7e46-44d5-c26b-8a9e11bbab49"
      },
      "execution_count": 313,
      "outputs": [
        {
          "output_type": "stream",
          "name": "stdout",
          "text": [
            "\n",
            "Test 1\n",
            "Rule match 'Clever(x) => Smart(x)' for 'Smart(Rahul)'\n",
            "Swaping {'x': 'Rahul'}\n",
            "Swapped condition 'Clever(Rahul)'\n",
            "Fact Function match 'Clever'\n",
            "p_arguments ['Rahul'], f_arguments ['Rahul']\n",
            "Fact 'Clever(Rahul)' |=> Clever(Rahul)\n",
            "Rule Clever(Rahul) => Smart(Rahul)\n",
            "True\n",
            "\n",
            "Test 2\n",
            "Rule match 'Clever(x) => Smart(x)' for 'Smart(Rahul)'\n",
            "Swaping {'x': 'Rahul'}\n",
            "Swapped condition 'Clever(Rahul)'\n",
            "Fact Function match 'Clever'\n",
            "p_arguments ['Rahul'], f_arguments ['y']\n",
            "Fact 'Clever(y)' |=> Clever(Rahul)\n",
            "Rule Clever(Rahul) => Smart(Rahul)\n",
            "True\n",
            "\n",
            "Test 3\n",
            "Rule match 'Clever(x) => ~Silly(x)' for 'Silly(Rahul)'\n",
            "Swaping {'x': 'Rahul'}\n",
            "Swapped condition 'Clever(Rahul)'\n",
            "Fact Function match 'Clever'\n",
            "p_arguments ['Rahul'], f_arguments ['y']\n",
            "Fact 'Clever(y)' |=> Clever(Rahul)\n",
            "Rule Clever(Rahul) => ~Silly(Rahul)\n",
            "False\n",
            "\n",
            "Test 4\n",
            "Rule match 'Clever(x) => Smart(x)' for 'Smart(Rahul)'\n",
            "Swaping {'x': 'Rahul'}\n",
            "Swapped condition 'Clever(Rahul)'\n",
            "Fact Function match 'Clever'\n",
            "p_arguments ['Rahul'], f_arguments ['Rahul']\n",
            "Fact '~Clever(Rahul)' |=> not Clever(Rahul)\n",
            "None\n",
            "\n",
            "Test 5\n",
            "Rule match '~Clever(x) => Smart(x)' for 'Smart(Rahul)'\n",
            "Swaping {'x': 'Rahul'}\n",
            "Swapped condition '~Clever(Rahul)'\n",
            "Fact Function match 'Clever'\n",
            "p_arguments ['Rahul'], f_arguments ['Rahul']\n",
            "Fact 'Clever(Rahul)' |=> not ~Clever(Rahul)\n",
            "None\n"
          ]
        }
      ]
    },
    {
      "cell_type": "code",
      "source": [
        "# Test 4\n",
        "\n",
        "print(\"\\nTest 1\")\n",
        "engine_1 = Fol_engine(facts={\"~Clever(Rahul)\"})\n",
        "print( engine_1.isTrue(\"Clever(Rahul)\") )\n",
        "\n",
        "print(\"\\nTest 2\")\n",
        "engine_1 = Fol_engine(facts={\"~Clever(Rahul)\"})\n",
        "print( engine_1.isTrue(\"~Clever(Rahul)\") )\n",
        "\n",
        "print(\"\\nTest 3\")\n",
        "engine_1 = Fol_engine(facts={\"~Clever(x)\"})\n",
        "print( engine_1.isTrue(\"Clever(Rahul)\") )\n",
        "\n",
        "print(\"\\nTest 4\")\n",
        "engine_1 = Fol_engine(facts={\"~Clever(x)\"})\n",
        "print( engine_1.isTrue(\"~Clever(Rahul)\") )\n",
        "\n",
        "print(\"\\nTest 5\")\n",
        "engine_1 = Fol_engine(facts={\"~Clever(Rahul)\"})\n",
        "print( engine_1.isTrue(\"Clever(x)\") )\n",
        "\n",
        "print(\"\\nTest 6\")\n",
        "engine_1 = Fol_engine(facts={\"~Clever(Rahul)\"})\n",
        "print( engine_1.isTrue(\"~Clever(x)\") )"
      ],
      "metadata": {
        "colab": {
          "base_uri": "https://localhost:8080/"
        },
        "id": "cezP2IlLo3Vv",
        "outputId": "74a0a875-0633-4e1f-b77b-0c159d31a5fa"
      },
      "execution_count": 314,
      "outputs": [
        {
          "output_type": "stream",
          "name": "stdout",
          "text": [
            "\n",
            "Test 1\n",
            "Fact Function match 'Clever'\n",
            "p_arguments ['Rahul'], f_arguments ['Rahul']\n",
            "Fact '~Clever(Rahul)' |=> not Clever(Rahul)\n",
            "False\n",
            "\n",
            "Test 2\n",
            "Fact Function match 'Clever'\n",
            "p_arguments ['Rahul'], f_arguments ['Rahul']\n",
            "Fact '~Clever(Rahul)' |=> ~Clever(Rahul)\n",
            "True\n",
            "\n",
            "Test 3\n",
            "Fact Function match 'Clever'\n",
            "p_arguments ['Rahul'], f_arguments ['x']\n",
            "Fact '~Clever(x)' |=> not Clever(Rahul)\n",
            "False\n",
            "\n",
            "Test 4\n",
            "Fact Function match 'Clever'\n",
            "p_arguments ['Rahul'], f_arguments ['x']\n",
            "Fact '~Clever(x)' |=> ~Clever(Rahul)\n",
            "True\n",
            "\n",
            "Test 5\n",
            "Fact Function match 'Clever'\n",
            "p_arguments ['x'], f_arguments ['Rahul']\n",
            "None\n",
            "\n",
            "Test 6\n",
            "Fact Function match 'Clever'\n",
            "p_arguments ['x'], f_arguments ['Rahul']\n",
            "None\n"
          ]
        }
      ]
    },
    {
      "cell_type": "code",
      "source": [
        " # Test 3\n",
        "'''\n",
        "\n",
        "'''\n",
        "\n",
        "print('Test 1')\n",
        "engine_1 = Fol_engine(facts={\"Has(x, Pen)\"})\n",
        "engine_1.isTrue(\"Has(Rahul, Pen)\")\n",
        "\n",
        "print('Test 2')\n",
        "engine_1 = Fol_engine(facts={\"OwnedBy(Pen, x)\"})\n",
        "engine_1.isTrue(\"OwnedBy(Pen, Rahul)\")"
      ],
      "metadata": {
        "colab": {
          "base_uri": "https://localhost:8080/"
        },
        "outputId": "4276155d-27c5-4b73-80d1-c246bda487a9",
        "id": "0HjfM2hoguG1"
      },
      "execution_count": 315,
      "outputs": [
        {
          "output_type": "stream",
          "name": "stdout",
          "text": [
            "Test 1\n",
            "Fact Function match 'Has'\n",
            "p_arguments ['Rahul', 'Pen'], f_arguments ['x', 'Pen']\n",
            "Fact 'Has(x, Pen)' |=> Has(Rahul, Pen)\n",
            "Test 2\n",
            "Fact Function match 'OwnedBy'\n",
            "p_arguments ['Pen', 'Rahul'], f_arguments ['Pen', 'x']\n",
            "Fact 'OwnedBy(Pen, x)' |=> OwnedBy(Pen, Rahul)\n"
          ]
        },
        {
          "output_type": "execute_result",
          "data": {
            "text/plain": [
              "True"
            ]
          },
          "metadata": {},
          "execution_count": 315
        }
      ]
    },
    {
      "cell_type": "code",
      "source": [
        " # Test 2\n",
        "'''\n",
        "Engine should unify \"Smart(Rahul)\" with \"Smart(x)\"\n",
        "first recognize \"Smart(x)\" is FuncArg\n",
        "then recognize argument x is ground term, so itmight be unified with something\n",
        "try to unify:\n",
        "    success: is this the result?\n",
        "    fail: move on\n",
        "'''\n",
        "\n",
        "print('Test 1')\n",
        "engine_1 = Fol_engine(facts={\"Smart(x)\"})  # for all x, Smart(x) is true\n",
        "engine_1.isTrue(\"Smart(Rahul)\")\n",
        "\n",
        "print(\"\\nTest 2\")\n",
        "engine_1 = Fol_engine(facts={\"Clever(x)\", \"Smart(y)\"})\n",
        "engine_1.isTrue(\"Smart(Rahul)\")\n",
        "\n",
        "print(\"\\nTest 3\")\n",
        "engine_1 = Fol_engine(facts={\"Clever(x)\"})\n",
        "engine_1.isTrue(\"Smart(Rahul)\") == None"
      ],
      "metadata": {
        "colab": {
          "base_uri": "https://localhost:8080/"
        },
        "id": "mbKRu0znCi_d",
        "outputId": "bf142719-cedf-42ea-a4e4-fd962576b438"
      },
      "execution_count": 316,
      "outputs": [
        {
          "output_type": "stream",
          "name": "stdout",
          "text": [
            "Test 1\n",
            "Fact Function match 'Smart'\n",
            "p_arguments ['Rahul'], f_arguments ['x']\n",
            "Fact 'Smart(x)' |=> Smart(Rahul)\n",
            "\n",
            "Test 2\n",
            "Fact Function match 'Smart'\n",
            "p_arguments ['Rahul'], f_arguments ['y']\n",
            "Fact 'Smart(y)' |=> Smart(Rahul)\n",
            "\n",
            "Test 3\n"
          ]
        },
        {
          "output_type": "execute_result",
          "data": {
            "text/plain": [
              "True"
            ]
          },
          "metadata": {},
          "execution_count": 316
        }
      ]
    },
    {
      "cell_type": "code",
      "source": [
        "# Test 1\n",
        "engine_1 = Fol_engine(facts={\"Smart(Rahul)\"})\n",
        "engine_1.isTrue(\"Smart(Rahul)\")"
      ],
      "metadata": {
        "colab": {
          "base_uri": "https://localhost:8080/"
        },
        "id": "fBQ9mYl6BEOq",
        "outputId": "442fa136-32c0-4bab-fc6b-2d84285c5185"
      },
      "execution_count": 317,
      "outputs": [
        {
          "output_type": "stream",
          "name": "stdout",
          "text": [
            "Fact Function match 'Smart'\n",
            "p_arguments ['Rahul'], f_arguments ['Rahul']\n",
            "Fact 'Smart(Rahul)' |=> Smart(Rahul)\n"
          ]
        },
        {
          "output_type": "execute_result",
          "data": {
            "text/plain": [
              "True"
            ]
          },
          "metadata": {},
          "execution_count": 317
        }
      ]
    },
    {
      "cell_type": "code",
      "source": [
        ""
      ],
      "metadata": {
        "id": "au_znnDrvFJb"
      },
      "execution_count": 317,
      "outputs": []
    }
  ]
}
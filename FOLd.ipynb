{
  "nbformat": 4,
  "nbformat_minor": 0,
  "metadata": {
    "colab": {
      "name": "FOLd.ipynb",
      "provenance": [],
      "toc_visible": true,
      "authorship_tag": "ABX9TyOM4mZKzJzrHIow1Zl2FfyS",
      "include_colab_link": true
    },
    "kernelspec": {
      "name": "python3",
      "display_name": "Python 3"
    },
    "language_info": {
      "name": "python"
    }
  },
  "cells": [
    {
      "cell_type": "markdown",
      "metadata": {
        "id": "view-in-github",
        "colab_type": "text"
      },
      "source": [
        "<a href=\"https://colab.research.google.com/github/RK22000/FOLd/blob/main/FOLd.ipynb\" target=\"_parent\"><img src=\"https://colab.research.google.com/assets/colab-badge.svg\" alt=\"Open In Colab\"/></a>"
      ]
    },
    {
      "cell_type": "markdown",
      "source": [
        "# Introduction"
      ],
      "metadata": {
        "id": "wLsfkFRnByoo"
      }
    },
    {
      "cell_type": "markdown",
      "source": [
        "This document is divided into 3 sections:\n",
        "\n",
        "1. Helper Methods\n",
        "\n",
        "        Has all the helper methods and their minor tests. (Skipable)\n",
        "1. Main Code\n",
        "    \n",
        "        Has the code for the main brains of the First Order Logic.\n",
        "1. Tests\n",
        "    \n",
        "        Shows the FOL engine at work with test cases. Can be checked before reading other sections.\n",
        "\n"
      ],
      "metadata": {
        "id": "Cf4PDHX7CMEP"
      }
    },
    {
      "cell_type": "markdown",
      "source": [
        "# Helper methods"
      ],
      "metadata": {
        "id": "hDo6NWDBBWkT"
      }
    },
    {
      "cell_type": "code",
      "source": [
        "import re"
      ],
      "metadata": {
        "id": "V3LreHXAFhxJ"
      },
      "execution_count": 1,
      "outputs": []
    },
    {
      "cell_type": "code",
      "source": [
        "re.findall(r'\\(.*\\)', \"Smart(x)(y)\")"
      ],
      "metadata": {
        "colab": {
          "base_uri": "https://localhost:8080/"
        },
        "id": "gThEoHYWFfqJ",
        "outputId": "00355fd3-81e5-45e1-c475-ecac7233618c"
      },
      "execution_count": 2,
      "outputs": [
        {
          "output_type": "execute_result",
          "data": {
            "text/plain": [
              "['(x)(y)']"
            ]
          },
          "metadata": {},
          "execution_count": 2
        }
      ]
    },
    {
      "cell_type": "code",
      "source": [
        "re.findall(r'\\([^(]*\\)', \"Smart(x)(y)\")"
      ],
      "metadata": {
        "colab": {
          "base_uri": "https://localhost:8080/"
        },
        "outputId": "72dc52ef-d833-4516-850e-2a8c3c7c517c",
        "id": "4Z2oRCJRHb0P"
      },
      "execution_count": 3,
      "outputs": [
        {
          "output_type": "execute_result",
          "data": {
            "text/plain": [
              "['(x)', '(y)']"
            ]
          },
          "metadata": {},
          "execution_count": 3
        }
      ]
    },
    {
      "cell_type": "code",
      "source": [
        "#match = re.findall(r'\\((?P<arguments>[^()]*)\\)', \"Smart(x, y) Clever(p, (q))\")\n",
        "b1 = r'\\(([^)(]*)\\)'\n",
        "b2 = r'\\(([^)(]*' + r'\\([^)(]\\)' + r'[^()]*)\\)'\n",
        "\n",
        "match = re.findall(b1+'|'+b2, \"Smart(x, y) Clever(p, (q))\")\n",
        "match#.group(\"arguments\")"
      ],
      "metadata": {
        "colab": {
          "base_uri": "https://localhost:8080/"
        },
        "outputId": "0ae67e9d-79e9-4895-d2c2-05b9c762af36",
        "id": "0DsKZltuIwz8"
      },
      "execution_count": 4,
      "outputs": [
        {
          "output_type": "execute_result",
          "data": {
            "text/plain": [
              "[('x, y', ''), ('', 'p, (q)')]"
            ]
          },
          "metadata": {},
          "execution_count": 4
        }
      ]
    },
    {
      "cell_type": "code",
      "source": [
        "import re\n",
        "def getFuncArgs(predicate: str):\n",
        "    \"\"\"Get the first function and its set of arguments in the predicate\"\"\"\n",
        "    regex = re.compile(r'(?P<negation>~?)(?P<function>\\w+)\\((?P<arguments>[^()]*)\\)')\n",
        "    match = regex.search(predicate)\n",
        "    arguments = match.group(\"arguments\").split(',')\n",
        "    for i, argument in enumerate(arguments):\n",
        "        arguments[i] = argument.strip()\n",
        "    func = match.group(\"function\")\n",
        "    negation = match.group(\"negation\")\n",
        "    return func, arguments, negation\n"
      ],
      "metadata": {
        "id": "Rx2Kh-_aC8WM"
      },
      "execution_count": 5,
      "outputs": []
    },
    {
      "cell_type": "code",
      "source": [
        "getFuncArgs(\"~Smart(x, y)\")"
      ],
      "metadata": {
        "colab": {
          "base_uri": "https://localhost:8080/"
        },
        "id": "kuhUVBFEP0TD",
        "outputId": "61d8b266-f95e-40ef-9b4c-5d465d87d793"
      },
      "execution_count": 6,
      "outputs": [
        {
          "output_type": "execute_result",
          "data": {
            "text/plain": [
              "('Smart', ['x', 'y'], '~')"
            ]
          },
          "metadata": {},
          "execution_count": 6
        }
      ]
    },
    {
      "cell_type": "code",
      "source": [
        "import re\n",
        "def isFuncArgs(predicate: str):\n",
        "    \"\"\"Get the first function and its set of arguments in the predicate\"\"\"\n",
        "    regex = re.compile(r'^(?P<function>~?\\w+)\\((?P<arguments>[^()]*)\\)$')\n",
        "    match = regex.search(predicate)\n",
        "    return True if match else False\n"
      ],
      "metadata": {
        "id": "yrYJiC9YT6uO"
      },
      "execution_count": 21,
      "outputs": []
    },
    {
      "cell_type": "code",
      "source": [
        "isFuncArgs(\"Smart(x)^Clever(x)\")"
      ],
      "metadata": {
        "colab": {
          "base_uri": "https://localhost:8080/"
        },
        "id": "g0RwoGmyn9i7",
        "outputId": "0de34c4c-4f42-466c-cf46-3eae504c8863"
      },
      "execution_count": 67,
      "outputs": [
        {
          "output_type": "execute_result",
          "data": {
            "text/plain": [
              "False"
            ]
          },
          "metadata": {},
          "execution_count": 67
        }
      ]
    },
    {
      "cell_type": "code",
      "source": [
        "isFuncArgs(\"abc\")"
      ],
      "metadata": {
        "colab": {
          "base_uri": "https://localhost:8080/"
        },
        "id": "kRL44GUOToep",
        "outputId": "62ebae03-6826-4646-9870-cc9a411c0ea5"
      },
      "execution_count": 22,
      "outputs": [
        {
          "output_type": "execute_result",
          "data": {
            "text/plain": [
              "False"
            ]
          },
          "metadata": {},
          "execution_count": 22
        }
      ]
    },
    {
      "cell_type": "code",
      "source": [
        "def ValidTerm(term: str):\n",
        "    regex = re.compile(r\"^[A-Za-z]+$\")\n",
        "    return True if regex.search(term) else False\n",
        "\n",
        "def GroundTerm(term: str):\n",
        "    if not ValidTerm(term=term): return False\n",
        "    regex = re.compile(r\"^[a-z]+$\")\n",
        "    return True if regex.search(term) else False\n",
        "\n",
        "def ConstantTerm(term: str):\n",
        "    if not ValidTerm(term=term): return False\n",
        "    regex = re.compile(r\"^[A-Z][A-Za-z]+$\")\n",
        "    return True if regex.search(term) else False"
      ],
      "metadata": {
        "id": "fvvMT6eXVLs7"
      },
      "execution_count": 9,
      "outputs": []
    },
    {
      "cell_type": "code",
      "source": [
        "GroundTerm('x'), ConstantTerm('RahulKan'), ValidTerm('XyZ')"
      ],
      "metadata": {
        "colab": {
          "base_uri": "https://localhost:8080/"
        },
        "id": "954wPIayV7X-",
        "outputId": "e01ad683-886c-475b-90c8-f55c53639351"
      },
      "execution_count": 10,
      "outputs": [
        {
          "output_type": "execute_result",
          "data": {
            "text/plain": [
              "(True, True, True)"
            ]
          },
          "metadata": {},
          "execution_count": 10
        }
      ]
    },
    {
      "cell_type": "code",
      "source": [
        "def swapable(f_terms, p_terms):\n",
        "    count=0\n",
        "    if not len(f_terms) == len(p_terms): return False\n",
        "    for f_term, p_term in zip(f_terms, p_terms):\n",
        "        if GroundTerm(f_term) or f_term==p_term:\n",
        "            count+=1\n",
        "    return count==len(f_terms)"
      ],
      "metadata": {
        "id": "9u5CcG6mjgEY"
      },
      "execution_count": 11,
      "outputs": []
    },
    {
      "cell_type": "code",
      "source": [
        "None == True, None == False"
      ],
      "metadata": {
        "colab": {
          "base_uri": "https://localhost:8080/"
        },
        "id": "gIMqsVcfoKf7",
        "outputId": "86b23064-1c6c-4c23-847e-9ced6ccab7db"
      },
      "execution_count": 12,
      "outputs": [
        {
          "output_type": "execute_result",
          "data": {
            "text/plain": [
              "(False, False)"
            ]
          },
          "metadata": {},
          "execution_count": 12
        }
      ]
    },
    {
      "cell_type": "code",
      "source": [
        "def isRule(sentence: str):\n",
        "    return sentence.count(\"=>\") == 1"
      ],
      "metadata": {
        "id": "7MlphbOgxhCz"
      },
      "execution_count": 13,
      "outputs": []
    },
    {
      "cell_type": "code",
      "source": [
        "isRule(\" a => b\")"
      ],
      "metadata": {
        "colab": {
          "base_uri": "https://localhost:8080/"
        },
        "id": "zqnJFhkRxv9P",
        "outputId": "ac11362c-a62c-472d-85c1-34a5b5f4c754"
      },
      "execution_count": 14,
      "outputs": [
        {
          "output_type": "execute_result",
          "data": {
            "text/plain": [
              "True"
            ]
          },
          "metadata": {},
          "execution_count": 14
        }
      ]
    },
    {
      "cell_type": "code",
      "source": [
        "def getCondImpl(sentence: str):\n",
        "    condition, implication = sentence.split(\"=>\")\n",
        "    return condition.strip(), implication.strip()"
      ],
      "metadata": {
        "id": "sE-QFrUJyL1H"
      },
      "execution_count": 15,
      "outputs": []
    },
    {
      "cell_type": "code",
      "source": [
        "getCondImpl(\" a ^ x=> b \")"
      ],
      "metadata": {
        "colab": {
          "base_uri": "https://localhost:8080/"
        },
        "id": "z3_ePNxNzSgi",
        "outputId": "5aab045e-0204-4980-e08c-045bc23bdfe8"
      },
      "execution_count": 16,
      "outputs": [
        {
          "output_type": "execute_result",
          "data": {
            "text/plain": [
              "('a ^ x', 'b')"
            ]
          },
          "metadata": {},
          "execution_count": 16
        }
      ]
    },
    {
      "cell_type": "code",
      "source": [
        "def swap_list(f_terms: list, p_terms: list):\n",
        "    swap = dict()\n",
        "    if not len(f_terms) == len(p_terms): return swap\n",
        "    for f_term, p_term in zip(f_terms, p_terms):\n",
        "        if GroundTerm(f_term):\n",
        "            swap[f_term] = p_term\n",
        "    return swap"
      ],
      "metadata": {
        "id": "p_qx_p3v2oIB"
      },
      "execution_count": 17,
      "outputs": []
    },
    {
      "cell_type": "code",
      "source": [
        "def replace_var(var: str, rpl: str, sentence:str) -> str:\n",
        "    def swap(match: re.Match):\n",
        "        #print(f'Match {match}')\n",
        "        return match.group()[0] + rpl + match.group()[-1]\n",
        "    wrapper = r\"[\\s)(,]\"\n",
        "    pattern = wrapper + f\"(?P<var>{var})\" + wrapper\n",
        "    return re.sub(pattern=pattern, repl=swap, string=sentence)"
      ],
      "metadata": {
        "id": "kvOMKDFV18xc"
      },
      "execution_count": 111,
      "outputs": []
    },
    {
      "cell_type": "code",
      "source": [
        "replace_var(\"y\", \"Azula\", \"Prodigy(y)\")"
      ],
      "metadata": {
        "colab": {
          "base_uri": "https://localhost:8080/",
          "height": 54
        },
        "id": "FcvsHQhC37xJ",
        "outputId": "0ac82606-894d-4b5a-aa74-de5c78871fb2"
      },
      "execution_count": 108,
      "outputs": [
        {
          "output_type": "stream",
          "name": "stdout",
          "text": [
            "Match <re.Match object; span=(7, 10), match='(y)'>\n"
          ]
        },
        {
          "output_type": "execute_result",
          "data": {
            "text/plain": [
              "'Prodigy(Azula)'"
            ],
            "application/vnd.google.colaboratory.intrinsic+json": {
              "type": "string"
            }
          },
          "metadata": {},
          "execution_count": 108
        }
      ]
    },
    {
      "cell_type": "code",
      "source": [
        "def conjunction(sentence: str) -> bool:\n",
        "    conjuncts = set( [conj.strip() for conj in sentence.split(\"^\")] )\n",
        "    return \"^\" in sentence and '' not in conjuncts"
      ],
      "metadata": {
        "id": "m04Eradjkm80"
      },
      "execution_count": 54,
      "outputs": []
    },
    {
      "cell_type": "code",
      "source": [
        "conjunction(\" a ^ B  ^ ^ x\")"
      ],
      "metadata": {
        "colab": {
          "base_uri": "https://localhost:8080/"
        },
        "id": "kV9d1RgrlAZd",
        "outputId": "535be390-724f-4762-ed01-4b585a384301"
      },
      "execution_count": 62,
      "outputs": [
        {
          "output_type": "execute_result",
          "data": {
            "text/plain": [
              "False"
            ]
          },
          "metadata": {},
          "execution_count": 62
        }
      ]
    },
    {
      "cell_type": "code",
      "source": [
        "def getConjuncts(sentence: str) -> set:\n",
        "    return set([conj.strip() for conj in sentence.split(\"^\")])\n"
      ],
      "metadata": {
        "id": "3L_EaOuIlTh8"
      },
      "execution_count": 63,
      "outputs": []
    },
    {
      "cell_type": "code",
      "source": [
        "getConjuncts(\" a ^ B ^ x \")"
      ],
      "metadata": {
        "colab": {
          "base_uri": "https://localhost:8080/"
        },
        "id": "WXnoCe-Ol9Rk",
        "outputId": "8410cfe9-b095-4b66-e440-34b1b000735b"
      },
      "execution_count": 66,
      "outputs": [
        {
          "output_type": "execute_result",
          "data": {
            "text/plain": [
              "{'B', 'a', 'x'}"
            ]
          },
          "metadata": {},
          "execution_count": 66
        }
      ]
    },
    {
      "cell_type": "markdown",
      "source": [
        "# Main Code"
      ],
      "metadata": {
        "id": "ksi8zOjdBopU"
      }
    },
    {
      "cell_type": "code",
      "execution_count": 112,
      "metadata": {
        "id": "HplyfgIi_Rb9"
      },
      "outputs": [],
      "source": [
        "class Fol_engine:\n",
        "    def __init__(self, facts: set = set(), rules: set = set()) -> None:\n",
        "        self.facts = facts\n",
        "        self.rules = rules\n",
        "\n",
        "\n",
        "    def isTrue(self, predicate: str):\n",
        "\n",
        "        if conjunction(sentence=predicate):\n",
        "            conjuncts = getConjuncts(sentence=predicate)\n",
        "            print(f\"Conjunct of {conjuncts}\")\n",
        "            result = True\n",
        "            for conjunct in conjuncts:\n",
        "                val = self.isTrue(conjunct)\n",
        "                if val == False: # val may be False or None\n",
        "                    return False\n",
        "                elif val is None:\n",
        "                    result = None\n",
        "            return result\n",
        "        \n",
        "        elif isFuncArgs(predicate):\n",
        "            p_func, p_arguments, p_negation = getFuncArgs(predicate)\n",
        "\n",
        "            print(f\"Checking {predicate}\")\n",
        "\n",
        "            for fact in self.facts:\n",
        "                if isFuncArgs(fact):\n",
        "                    f_func, f_arguments, f_negation = getFuncArgs(fact)\n",
        "                    if f_func==p_func and len(p_arguments)==len(f_arguments):\n",
        "                        print(f'Fact Function match \\'{p_func}\\'')\n",
        "                        print(f'p_arguments {p_arguments}, f_arguments {f_arguments}')\n",
        "\n",
        "                        if swapable(f_terms=f_arguments, p_terms=p_arguments):\n",
        "                            mod = \"\" if p_negation == f_negation else \"not \"\n",
        "                            print(f'Fact \\'{fact}\\' |=> {mod}{predicate}')\n",
        "                            return p_negation == f_negation\n",
        "                        else:\n",
        "                            print(f'Fact \\'{fact}\\' ?=> {predicate}')\n",
        "\n",
        "            for rule in self.rules:\n",
        "                if isRule(rule):\n",
        "                    condition, implication = getCondImpl(rule)\n",
        "                    if isFuncArgs(implication):\n",
        "                        i_func, i_arguments, i_negation = getFuncArgs(implication)\n",
        "                        if i_func==p_func and len(i_arguments)==len(p_arguments):\n",
        "                            print(f'Rule match \\'{rule}\\' for \\'{predicate}\\'')\n",
        "\n",
        "                            if swapable(f_terms=i_arguments, p_terms=p_arguments):\n",
        "                                swap = swap_list(f_terms=i_arguments, p_terms=p_arguments)\n",
        "                                print(f'Swaping {swap}')\n",
        "\n",
        "                                for var in swap:\n",
        "                                    condition = replace_var(var=var, rpl=swap[var], sentence=condition)\n",
        "                                    rule = replace_var(var=var, rpl=swap[var], sentence=rule)\n",
        "                                    #condition = re.sub(var, swap[var], condition)\n",
        "                                    #rule = re.sub(var, swap[var], rule)\n",
        "                                \n",
        "                                print(f'Swapped condition \\'{condition}\\'')\n",
        "                                result = self.isTrue(condition)\n",
        "                                if result == True:\n",
        "                                    print(f'Rule {rule}')\n",
        "                                    return result if p_negation == i_negation else not result\n",
        "        return None"
      ]
    },
    {
      "cell_type": "markdown",
      "source": [
        "# Tests"
      ],
      "metadata": {
        "id": "jPw-bGTKBuCF"
      }
    },
    {
      "cell_type": "markdown",
      "source": [
        "## Test 7"
      ],
      "metadata": {
        "id": "KKysjLYexz-1"
      }
    },
    {
      "cell_type": "code",
      "source": [
        "print(\"Test 7.1\")\n",
        "def test():\n",
        "    facts = {\n",
        "        \"TeamAvatarMember(Sokka)\",\n",
        "        \"Scarcastic(Sokka)\",\n",
        "        \"Prodigy(Azula)\",\n",
        "        \"Villan(Azula)\",\n",
        "        \"Lethal(Azula)\",\n",
        "    }\n",
        "    rules = {\n",
        "        \"TeamAvatarMember(x) ^ Scarcastic(x) => Funny(x)\",\n",
        "        \"Villan(y) ^ Lethal(y) ^ Prodigy(y) => Scary(y)\", # Prodigy(y) swap y will swap y in both name and argument\n",
        "    }\n",
        "    engine_1 = Fol_engine(facts=facts, rules=rules)\n",
        "    print(engine_1.isTrue(\"Funny(Sokka) ^ Scary(Azula)\"))\n",
        "\n",
        "test()"
      ],
      "metadata": {
        "colab": {
          "base_uri": "https://localhost:8080/"
        },
        "id": "bgv8O0uvx8ou",
        "outputId": "0a89505a-f7cc-4e1b-d38b-0520312bdb59"
      },
      "execution_count": 113,
      "outputs": [
        {
          "output_type": "stream",
          "name": "stdout",
          "text": [
            "Test 7.1\n",
            "Conjunct of {'Scary(Azula)', 'Funny(Sokka)'}\n",
            "Checking Scary(Azula)\n",
            "Rule match 'Villan(y) ^ Lethal(y) ^ Prodigy(y) => Scary(y)' for 'Scary(Azula)'\n",
            "Swaping {'y': 'Azula'}\n",
            "Swapped condition 'Villan(Azula) ^ Lethal(Azula) ^ Prodigy(Azula)'\n",
            "Conjunct of {'Villan(Azula)', 'Lethal(Azula)', 'Prodigy(Azula)'}\n",
            "Checking Villan(Azula)\n",
            "Fact Function match 'Villan'\n",
            "p_arguments ['Azula'], f_arguments ['Azula']\n",
            "Fact 'Villan(Azula)' |=> Villan(Azula)\n",
            "Checking Lethal(Azula)\n",
            "Fact Function match 'Lethal'\n",
            "p_arguments ['Azula'], f_arguments ['Azula']\n",
            "Fact 'Lethal(Azula)' |=> Lethal(Azula)\n",
            "Checking Prodigy(Azula)\n",
            "Fact Function match 'Prodigy'\n",
            "p_arguments ['Azula'], f_arguments ['Azula']\n",
            "Fact 'Prodigy(Azula)' |=> Prodigy(Azula)\n",
            "Rule Villan(Azula) ^ Lethal(Azula) ^ Prodigy(Azula) => Scary(Azula)\n",
            "Checking Funny(Sokka)\n",
            "Rule match 'TeamAvatarMember(x) ^ Scarcastic(x) => Funny(x)' for 'Funny(Sokka)'\n",
            "Swaping {'x': 'Sokka'}\n",
            "Swapped condition 'TeamAvatarMember(Sokka) ^ Scarcastic(Sokka)'\n",
            "Conjunct of {'TeamAvatarMember(Sokka)', 'Scarcastic(Sokka)'}\n",
            "Checking TeamAvatarMember(Sokka)\n",
            "Fact Function match 'TeamAvatarMember'\n",
            "p_arguments ['Sokka'], f_arguments ['Sokka']\n",
            "Fact 'TeamAvatarMember(Sokka)' |=> TeamAvatarMember(Sokka)\n",
            "Checking Scarcastic(Sokka)\n",
            "Fact Function match 'Scarcastic'\n",
            "p_arguments ['Sokka'], f_arguments ['Sokka']\n",
            "Fact 'Scarcastic(Sokka)' |=> Scarcastic(Sokka)\n",
            "Rule TeamAvatarMember(Sokka) ^ Scarcastic(Sokka) => Funny(Sokka)\n",
            "True\n"
          ]
        }
      ]
    },
    {
      "cell_type": "markdown",
      "source": [
        "## Tests 6 and below"
      ],
      "metadata": {
        "id": "paM1HqE9x54Z"
      }
    },
    {
      "cell_type": "code",
      "source": [
        "# Test 6\n",
        "print(\"\\nTest 1\")\n",
        "engine_1 = Fol_engine(facts={\"Smart(Sokka)\", \"Funny(Sokka)\"})\n",
        "engine_1.isTrue(\"Smart(Sokka) ^ Funny(Sokka)\")\n",
        "\n",
        "print(\"\\nTest 2\")\n",
        "engine_1 = Fol_engine(facts={\"Smart(x)\", \"Funny(Sokka)\"})\n",
        "engine_1.isTrue(\"Smart(Sokka) ^ Funny(Sokka)\")\n",
        "\n",
        "print(\"\\nTest 3\")\n",
        "engine_1 = Fol_engine(facts={\"Smart(x)\", \"Funny(Sokka)\"})\n",
        "engine_1.isTrue(\"~Smart(Sokka) ^ Funny(Sokka)\")\n",
        "\n",
        "print(\"\\nTest 4\")\n",
        "engine_1 = Fol_engine(facts={\"Smart(x)\", \"~Funny(Sokka)\"})\n",
        "engine_1.isTrue(\"Smart(Sokka) ^ Funny(Sokka)\")\n",
        "\n",
        "print(\"\\nTest 5\")\n",
        "engine_1 = Fol_engine(facts={\"Smart(x)\", \"Funny(Sokka)\"})\n",
        "print(engine_1.isTrue(\"Smart(Sokka) ^ Funny(Azula)\"))\n",
        "\n",
        "print(\"\\nTest 6\")\n",
        "engine_1 = Fol_engine(facts={\"Smart(x)\", \"Funny(Sokka)\", \"~Funny(Azula)\"})\n",
        "print(engine_1.isTrue(\"Smart(Sokka) ^ Funny(Azula)\"))"
      ],
      "metadata": {
        "colab": {
          "base_uri": "https://localhost:8080/"
        },
        "id": "fv2gzG2djkGN",
        "outputId": "4e946c86-b8a3-465a-97fa-8cddd84281d5"
      },
      "execution_count": 87,
      "outputs": [
        {
          "output_type": "stream",
          "name": "stdout",
          "text": [
            "\n",
            "Test 1\n",
            "Conjunct of {'Smart(Sokka)', 'Funny(Sokka)'}\n",
            "Checking Smart(Sokka)\n",
            "Fact Function match 'Smart'\n",
            "p_arguments ['Sokka'], f_arguments ['Sokka']\n",
            "Fact 'Smart(Sokka)' |=> Smart(Sokka)\n",
            "Checking Funny(Sokka)\n",
            "Fact Function match 'Funny'\n",
            "p_arguments ['Sokka'], f_arguments ['Sokka']\n",
            "Fact 'Funny(Sokka)' |=> Funny(Sokka)\n",
            "\n",
            "Test 2\n",
            "Conjunct of {'Smart(Sokka)', 'Funny(Sokka)'}\n",
            "Checking Smart(Sokka)\n",
            "Fact Function match 'Smart'\n",
            "p_arguments ['Sokka'], f_arguments ['x']\n",
            "Fact 'Smart(x)' |=> Smart(Sokka)\n",
            "Checking Funny(Sokka)\n",
            "Fact Function match 'Funny'\n",
            "p_arguments ['Sokka'], f_arguments ['Sokka']\n",
            "Fact 'Funny(Sokka)' |=> Funny(Sokka)\n",
            "\n",
            "Test 3\n",
            "Conjunct of {'~Smart(Sokka)', 'Funny(Sokka)'}\n",
            "Checking ~Smart(Sokka)\n",
            "Fact Function match 'Smart'\n",
            "p_arguments ['Sokka'], f_arguments ['x']\n",
            "Fact 'Smart(x)' |=> not ~Smart(Sokka)\n",
            "\n",
            "Test 4\n",
            "Conjunct of {'Smart(Sokka)', 'Funny(Sokka)'}\n",
            "Checking Smart(Sokka)\n",
            "Fact Function match 'Smart'\n",
            "p_arguments ['Sokka'], f_arguments ['x']\n",
            "Fact 'Smart(x)' |=> Smart(Sokka)\n",
            "Checking Funny(Sokka)\n",
            "Fact Function match 'Funny'\n",
            "p_arguments ['Sokka'], f_arguments ['Sokka']\n",
            "Fact '~Funny(Sokka)' |=> not Funny(Sokka)\n",
            "\n",
            "Test 5\n",
            "Conjunct of {'Funny(Azula)', 'Smart(Sokka)'}\n",
            "Checking Funny(Azula)\n",
            "Fact Function match 'Funny'\n",
            "p_arguments ['Azula'], f_arguments ['Sokka']\n",
            "Fact 'Funny(Sokka)' ?=> Funny(Azula)\n",
            "Checking Smart(Sokka)\n",
            "Fact Function match 'Smart'\n",
            "p_arguments ['Sokka'], f_arguments ['x']\n",
            "Fact 'Smart(x)' |=> Smart(Sokka)\n",
            "None\n",
            "\n",
            "Test 6\n",
            "Conjunct of {'Funny(Azula)', 'Smart(Sokka)'}\n",
            "Checking Funny(Azula)\n",
            "Fact Function match 'Funny'\n",
            "p_arguments ['Azula'], f_arguments ['Azula']\n",
            "Fact '~Funny(Azula)' |=> not Funny(Azula)\n",
            "False\n"
          ]
        }
      ]
    },
    {
      "cell_type": "code",
      "source": [
        "# Test 5\n",
        "\n",
        "print(\"\\nTest 1\")\n",
        "engine_1 = Fol_engine(facts={\"Clever(Rahul)\"}, rules={\"Clever(x) => Smart(x)\"})\n",
        "print( engine_1.isTrue(\"Smart(Rahul)\") )\n",
        "\n",
        "\n",
        "print(\"\\nTest 2\")\n",
        "engine_1 = Fol_engine(facts={\"Clever(y)\"}, rules={\"Clever(x) => Smart(x)\"})\n",
        "print( engine_1.isTrue(\"Smart(Rahul)\") )\n",
        "\n",
        "print(\"\\nTest 3\")\n",
        "engine_1 = Fol_engine(facts={\"Clever(y)\"}, rules={\"Clever(x) => ~Silly(x)\"})\n",
        "print( engine_1.isTrue(\"Silly(Rahul)\") )\n",
        "\n",
        "print(\"\\nTest 4\")\n",
        "engine_1 = Fol_engine(facts={\"~Clever(Rahul)\"}, rules={\"Clever(x) => Smart(x)\"})\n",
        "print( engine_1.isTrue(\"Smart(Rahul)\") )\n",
        "\n",
        "print(\"\\nTest 5\")\n",
        "engine_1 = Fol_engine(facts={\"Clever(Rahul)\"}, rules={\"~Clever(x) => Smart(x)\"})\n",
        "print( engine_1.isTrue(\"Smart(Rahul)\") )"
      ],
      "metadata": {
        "colab": {
          "base_uri": "https://localhost:8080/"
        },
        "id": "722GPWW4wJof",
        "outputId": "b9f3a450-4a05-4e8d-e938-51bda83b9144"
      },
      "execution_count": 25,
      "outputs": [
        {
          "output_type": "stream",
          "name": "stdout",
          "text": [
            "\n",
            "Test 1\n",
            "Rule match 'Clever(x) => Smart(x)' for 'Smart(Rahul)'\n",
            "Swaping {'x': 'Rahul'}\n",
            "Swapped condition 'Clever(Rahul)'\n",
            "Fact Function match 'Clever'\n",
            "p_arguments ['Rahul'], f_arguments ['Rahul']\n",
            "Fact 'Clever(Rahul)' |=> Clever(Rahul)\n",
            "Rule Clever(Rahul) => Smart(Rahul)\n",
            "True\n",
            "\n",
            "Test 2\n",
            "Rule match 'Clever(x) => Smart(x)' for 'Smart(Rahul)'\n",
            "Swaping {'x': 'Rahul'}\n",
            "Swapped condition 'Clever(Rahul)'\n",
            "Fact Function match 'Clever'\n",
            "p_arguments ['Rahul'], f_arguments ['y']\n",
            "Fact 'Clever(y)' |=> Clever(Rahul)\n",
            "Rule Clever(Rahul) => Smart(Rahul)\n",
            "True\n",
            "\n",
            "Test 3\n",
            "Rule match 'Clever(x) => ~Silly(x)' for 'Silly(Rahul)'\n",
            "Swaping {'x': 'Rahul'}\n",
            "Swapped condition 'Clever(Rahul)'\n",
            "Fact Function match 'Clever'\n",
            "p_arguments ['Rahul'], f_arguments ['y']\n",
            "Fact 'Clever(y)' |=> Clever(Rahul)\n",
            "Rule Clever(Rahul) => ~Silly(Rahul)\n",
            "False\n",
            "\n",
            "Test 4\n",
            "Rule match 'Clever(x) => Smart(x)' for 'Smart(Rahul)'\n",
            "Swaping {'x': 'Rahul'}\n",
            "Swapped condition 'Clever(Rahul)'\n",
            "Fact Function match 'Clever'\n",
            "p_arguments ['Rahul'], f_arguments ['Rahul']\n",
            "Fact '~Clever(Rahul)' |=> not Clever(Rahul)\n",
            "None\n",
            "\n",
            "Test 5\n",
            "Rule match '~Clever(x) => Smart(x)' for 'Smart(Rahul)'\n",
            "Swaping {'x': 'Rahul'}\n",
            "Swapped condition '~Clever(Rahul)'\n",
            "Fact Function match 'Clever'\n",
            "p_arguments ['Rahul'], f_arguments ['Rahul']\n",
            "Fact 'Clever(Rahul)' |=> not ~Clever(Rahul)\n",
            "None\n"
          ]
        }
      ]
    },
    {
      "cell_type": "code",
      "source": [
        "# Test 4\n",
        "\n",
        "print(\"\\nTest 1\")\n",
        "engine_1 = Fol_engine(facts={\"~Clever(Rahul)\"})\n",
        "print( engine_1.isTrue(\"Clever(Rahul)\") )\n",
        "\n",
        "print(\"\\nTest 2\")\n",
        "engine_1 = Fol_engine(facts={\"~Clever(Rahul)\"})\n",
        "print( engine_1.isTrue(\"~Clever(Rahul)\") )\n",
        "\n",
        "print(\"\\nTest 3\")\n",
        "engine_1 = Fol_engine(facts={\"~Clever(x)\"})\n",
        "print( engine_1.isTrue(\"Clever(Rahul)\") )\n",
        "\n",
        "print(\"\\nTest 4\")\n",
        "engine_1 = Fol_engine(facts={\"~Clever(x)\"})\n",
        "print( engine_1.isTrue(\"~Clever(Rahul)\") )\n",
        "\n",
        "print(\"\\nTest 5\")\n",
        "engine_1 = Fol_engine(facts={\"~Clever(Rahul)\"})\n",
        "print( engine_1.isTrue(\"Clever(x)\") )\n",
        "\n",
        "print(\"\\nTest 6\")\n",
        "engine_1 = Fol_engine(facts={\"~Clever(Rahul)\"})\n",
        "print( engine_1.isTrue(\"~Clever(x)\") )"
      ],
      "metadata": {
        "colab": {
          "base_uri": "https://localhost:8080/"
        },
        "id": "cezP2IlLo3Vv",
        "outputId": "74a0a875-0633-4e1f-b77b-0c159d31a5fa"
      },
      "execution_count": null,
      "outputs": [
        {
          "output_type": "stream",
          "name": "stdout",
          "text": [
            "\n",
            "Test 1\n",
            "Fact Function match 'Clever'\n",
            "p_arguments ['Rahul'], f_arguments ['Rahul']\n",
            "Fact '~Clever(Rahul)' |=> not Clever(Rahul)\n",
            "False\n",
            "\n",
            "Test 2\n",
            "Fact Function match 'Clever'\n",
            "p_arguments ['Rahul'], f_arguments ['Rahul']\n",
            "Fact '~Clever(Rahul)' |=> ~Clever(Rahul)\n",
            "True\n",
            "\n",
            "Test 3\n",
            "Fact Function match 'Clever'\n",
            "p_arguments ['Rahul'], f_arguments ['x']\n",
            "Fact '~Clever(x)' |=> not Clever(Rahul)\n",
            "False\n",
            "\n",
            "Test 4\n",
            "Fact Function match 'Clever'\n",
            "p_arguments ['Rahul'], f_arguments ['x']\n",
            "Fact '~Clever(x)' |=> ~Clever(Rahul)\n",
            "True\n",
            "\n",
            "Test 5\n",
            "Fact Function match 'Clever'\n",
            "p_arguments ['x'], f_arguments ['Rahul']\n",
            "None\n",
            "\n",
            "Test 6\n",
            "Fact Function match 'Clever'\n",
            "p_arguments ['x'], f_arguments ['Rahul']\n",
            "None\n"
          ]
        }
      ]
    },
    {
      "cell_type": "code",
      "source": [
        " # Test 3\n",
        "'''\n",
        "\n",
        "'''\n",
        "\n",
        "print('Test 1')\n",
        "engine_1 = Fol_engine(facts={\"Has(x, Pen)\"})\n",
        "engine_1.isTrue(\"Has(Rahul, Pen)\")\n",
        "\n",
        "print('Test 2')\n",
        "engine_1 = Fol_engine(facts={\"OwnedBy(Pen, x)\"})\n",
        "engine_1.isTrue(\"OwnedBy(Pen, Rahul)\")"
      ],
      "metadata": {
        "colab": {
          "base_uri": "https://localhost:8080/"
        },
        "outputId": "4276155d-27c5-4b73-80d1-c246bda487a9",
        "id": "0HjfM2hoguG1"
      },
      "execution_count": null,
      "outputs": [
        {
          "output_type": "stream",
          "name": "stdout",
          "text": [
            "Test 1\n",
            "Fact Function match 'Has'\n",
            "p_arguments ['Rahul', 'Pen'], f_arguments ['x', 'Pen']\n",
            "Fact 'Has(x, Pen)' |=> Has(Rahul, Pen)\n",
            "Test 2\n",
            "Fact Function match 'OwnedBy'\n",
            "p_arguments ['Pen', 'Rahul'], f_arguments ['Pen', 'x']\n",
            "Fact 'OwnedBy(Pen, x)' |=> OwnedBy(Pen, Rahul)\n"
          ]
        },
        {
          "output_type": "execute_result",
          "data": {
            "text/plain": [
              "True"
            ]
          },
          "metadata": {},
          "execution_count": 315
        }
      ]
    },
    {
      "cell_type": "code",
      "source": [
        " # Test 2\n",
        "'''\n",
        "Engine should unify \"Smart(Rahul)\" with \"Smart(x)\"\n",
        "first recognize \"Smart(x)\" is FuncArg\n",
        "then recognize argument x is ground term, so itmight be unified with something\n",
        "try to unify:\n",
        "    success: is this the result?\n",
        "    fail: move on\n",
        "'''\n",
        "\n",
        "print('Test 1')\n",
        "engine_1 = Fol_engine(facts={\"Smart(x)\"})  # for all x, Smart(x) is true\n",
        "engine_1.isTrue(\"Smart(Rahul)\")\n",
        "\n",
        "print(\"\\nTest 2\")\n",
        "engine_1 = Fol_engine(facts={\"Clever(x)\", \"Smart(y)\"})\n",
        "engine_1.isTrue(\"Smart(Rahul)\")\n",
        "\n",
        "print(\"\\nTest 3\")\n",
        "engine_1 = Fol_engine(facts={\"Clever(x)\"})\n",
        "engine_1.isTrue(\"Smart(Rahul)\") == None"
      ],
      "metadata": {
        "colab": {
          "base_uri": "https://localhost:8080/"
        },
        "id": "mbKRu0znCi_d",
        "outputId": "bf142719-cedf-42ea-a4e4-fd962576b438"
      },
      "execution_count": null,
      "outputs": [
        {
          "output_type": "stream",
          "name": "stdout",
          "text": [
            "Test 1\n",
            "Fact Function match 'Smart'\n",
            "p_arguments ['Rahul'], f_arguments ['x']\n",
            "Fact 'Smart(x)' |=> Smart(Rahul)\n",
            "\n",
            "Test 2\n",
            "Fact Function match 'Smart'\n",
            "p_arguments ['Rahul'], f_arguments ['y']\n",
            "Fact 'Smart(y)' |=> Smart(Rahul)\n",
            "\n",
            "Test 3\n"
          ]
        },
        {
          "output_type": "execute_result",
          "data": {
            "text/plain": [
              "True"
            ]
          },
          "metadata": {},
          "execution_count": 316
        }
      ]
    },
    {
      "cell_type": "code",
      "source": [
        "# Test 1\n",
        "engine_1 = Fol_engine(facts={\"Smart(Rahul)\"})\n",
        "engine_1.isTrue(\"Smart(Rahul)\")"
      ],
      "metadata": {
        "colab": {
          "base_uri": "https://localhost:8080/"
        },
        "id": "fBQ9mYl6BEOq",
        "outputId": "442fa136-32c0-4bab-fc6b-2d84285c5185"
      },
      "execution_count": null,
      "outputs": [
        {
          "output_type": "stream",
          "name": "stdout",
          "text": [
            "Fact Function match 'Smart'\n",
            "p_arguments ['Rahul'], f_arguments ['Rahul']\n",
            "Fact 'Smart(Rahul)' |=> Smart(Rahul)\n"
          ]
        },
        {
          "output_type": "execute_result",
          "data": {
            "text/plain": [
              "True"
            ]
          },
          "metadata": {},
          "execution_count": 317
        }
      ]
    }
  ]
}